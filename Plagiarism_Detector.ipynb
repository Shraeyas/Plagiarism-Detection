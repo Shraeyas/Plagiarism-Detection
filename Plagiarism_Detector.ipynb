{
 "cells": [
  {
   "cell_type": "code",
   "execution_count": 1,
   "metadata": {},
   "outputs": [],
   "source": [
    "import os\n",
    "import numpy as np\n",
    "import pandas as pd"
   ]
  },
  {
   "cell_type": "code",
   "execution_count": 5,
   "metadata": {},
   "outputs": [
    {
     "name": "stdout",
     "output_type": "stream",
     "text": [
      "[Synset('dog.n.01'), Synset('frump.n.01'), Synset('dog.n.03'), Synset('cad.n.01'), Synset('frank.n.02'), Synset('pawl.n.01'), Synset('andiron.n.01'), Synset('chase.v.01')]\n",
      "\n",
      "\n",
      "[Synset('run.n.01'), Synset('test.n.05'), Synset('footrace.n.01'), Synset('streak.n.01'), Synset('run.n.05'), Synset('run.n.06'), Synset('run.n.07'), Synset('run.n.08'), Synset('run.n.09'), Synset('run.n.10'), Synset('rivulet.n.01'), Synset('political_campaign.n.01'), Synset('run.n.13'), Synset('discharge.n.06'), Synset('run.n.15'), Synset('run.n.16'), Synset('run.v.01'), Synset('scat.v.01'), Synset('run.v.03'), Synset('operate.v.01'), Synset('run.v.05'), Synset('run.v.06'), Synset('function.v.01'), Synset('range.v.01'), Synset('campaign.v.01'), Synset('play.v.18'), Synset('run.v.11'), Synset('tend.v.01'), Synset('run.v.13'), Synset('run.v.14'), Synset('run.v.15'), Synset('run.v.16'), Synset('prevail.v.03'), Synset('run.v.18'), Synset('run.v.19'), Synset('carry.v.15'), Synset('run.v.21'), Synset('guide.v.05'), Synset('run.v.23'), Synset('run.v.24'), Synset('run.v.25'), Synset('run.v.26'), Synset('run.v.27'), Synset('run.v.28'), Synset('run.v.29'), Synset('run.v.30'), Synset('run.v.31'), Synset('run.v.32'), Synset('run.v.33'), Synset('run.v.34'), Synset('ply.v.03'), Synset('hunt.v.01'), Synset('race.v.02'), Synset('move.v.13'), Synset('melt.v.01'), Synset('ladder.v.01'), Synset('run.v.41')]\n",
      "\n",
      "\n",
      "Synset('dog.n.01')\n",
      "\n",
      "\n",
      "Synset('run.v.01')\n"
     ]
    }
   ],
   "source": [
    "print(wn.synsets('dog'))\n",
    "print(\"\\n\")\n",
    "print(wn.synsets('run'))\n",
    "print(\"\\n\")\n",
    "print(wn.synset('dog.n.01'))\n",
    "print(\"\\n\")\n",
    "print(wn.synset('run.v.01'))"
   ]
  },
  {
   "cell_type": "code",
   "execution_count": 3,
   "metadata": {},
   "outputs": [],
   "source": [
    "files_text = []\n",
    "\n",
    "for file in data.File.values :\n",
    "    files_text.append (open (os.path.join (\"dataset\", file), 'r', encoding=\"cp437\").read ())"
   ]
  },
  {
   "cell_type": "code",
   "execution_count": 4,
   "metadata": {},
   "outputs": [
    {
     "name": "stdout",
     "output_type": "stream",
     "text": [
      "19\n"
     ]
    }
   ],
   "source": [
    "print (len (files_text))"
   ]
  },
  {
   "cell_type": "code",
   "execution_count": 5,
   "metadata": {},
   "outputs": [
    {
     "name": "stderr",
     "output_type": "stream",
     "text": [
      "[nltk_data] Downloading package punkt to\n",
      "[nltk_data]     C:\\Users\\Shraeyas\\AppData\\Roaming\\nltk_data...\n",
      "[nltk_data]   Package punkt is already up-to-date!\n",
      "[nltk_data] Downloading package stopwords to\n",
      "[nltk_data]     C:\\Users\\Shraeyas\\AppData\\Roaming\\nltk_data...\n",
      "[nltk_data]   Package stopwords is already up-to-date!\n"
     ]
    }
   ],
   "source": [
    "import re\n",
    "import nltk\n",
    "from nltk.corpus import stopwords\n",
    "from nltk.tokenize import word_tokenize\n",
    "nltk.download ('punkt')\n",
    "nltk.download ('stopwords')\n",
    "\n",
    "def pre_process (_sentences) :\n",
    "    # Get the Stopwords of English Language\n",
    "    en_stops = set (stopwords.words ('english'))\n",
    "    processed_sentences = []\n",
    "\n",
    "    for sentence in _sentences :\n",
    "        #print (sentence)\n",
    "        sentence = re.sub (r'[^\\w\\s]','', sentence)\n",
    "        lower_sen = sentence.lower ()\n",
    "        token_sen = word_tokenize (lower_sen)\n",
    "\n",
    "        #print (token_sen)\n",
    "\n",
    "        new_sentence = []\n",
    "        for word in token_sen:\n",
    "            if word not in en_stops:\n",
    "                new_sentence.append (word)\n",
    "                #print (word)\n",
    "\n",
    "        processed_sentences.append (new_sentence)\n",
    "    return processed_sentences"
   ]
  },
  {
   "cell_type": "code",
   "execution_count": 6,
   "metadata": {},
   "outputs": [
    {
     "name": "stdout",
     "output_type": "stream",
     "text": [
      "19\n"
     ]
    }
   ],
   "source": [
    "sentences = []\n",
    "for file_text in files_text :\n",
    "    sentences.append (pre_process ([file_text]))        \n",
    "print (len(sentences))"
   ]
  },
  {
   "cell_type": "code",
   "execution_count": 7,
   "metadata": {},
   "outputs": [],
   "source": [
    "from gensim.models.doc2vec import TaggedDocument\n",
    "tagged_data = [TaggedDocument (words = _d[0], tags = [str (i)]) for i, _d in enumerate (sentences)]"
   ]
  },
  {
   "cell_type": "code",
   "execution_count": 8,
   "metadata": {},
   "outputs": [
    {
     "name": "stdout",
     "output_type": "stream",
     "text": [
      "['inheritance', 'basic', 'concept', 'objectoriented', 'programming', 'basic', 'idea', 'create', 'new', 'classes', 'add', 'extra', 'detail', 'existing', 'classes', 'done', 'allowing', 'new', 'classes', 'reuse', 'methods', 'variables', 'existing', 'classes', 'new', 'methods', 'classes', 'added', 'specialise', 'new', 'class', 'inheritance', 'models', 'γçiskindofγç', 'relationship', 'entities', 'objects', 'example', 'postgraduates', 'undergraduates', 'kinds', 'student', 'kind', 'relationship', 'visualised', 'tree', 'structure', 'γçÿstudentγçö', 'would', 'general', 'root', 'node', 'γçÿpostgraduateγçö', 'γçÿundergraduateγçö', 'would', 'specialised', 'extensions', 'γçÿstudentγçö', 'node', 'child', 'nodes', 'relationship', 'γçÿstudentγçö', 'would', 'known', 'superclass', 'parent', 'class', 'whereas', 'γçÿpostgraduateγçö', 'would', 'known', 'subclass', 'child', 'class', 'γçÿpostgraduateγçö', 'class', 'extends', 'γçÿstudentγçö', 'class', 'inheritance', 'occur', 'several', 'layers', 'visualised', 'would', 'display', 'larger', 'tree', 'structure', 'example', 'could', 'extend', 'γçÿpostgraduateγçö', 'node', 'adding', 'two', 'extra', 'extended', 'classes', 'called', 'γçÿmsc', 'studentγçö', 'γçÿphd', 'studentγçö', 'types', 'student', 'kinds', 'postgraduate', 'student', 'would', 'mean', 'γçÿmsc', 'studentγçö', 'γçÿphd', 'studentγçö', 'classes', 'would', 'inherit', 'methods', 'variables', 'γçÿpostgraduateγçö', 'γçÿstudent', 'classesγçö']\n",
      "19\n"
     ]
    }
   ],
   "source": [
    "print(tagged_data[0][0])\n",
    "print(len(tagged_data))"
   ]
  },
  {
   "cell_type": "code",
   "execution_count": 9,
   "metadata": {},
   "outputs": [],
   "source": [
    "from gensim.models.doc2vec import Doc2Vec\n",
    "\n",
    "model = Doc2Vec (vector_size = 100, window = 19, min_count = 5, workers = 8, epochs = 1000, alpha = 0.03, min_alpha = 0.002)\n",
    "model.build_vocab (tagged_data)\n",
    "model.train (tagged_data, total_examples = model.corpus_count, epochs = model.epochs)\n",
    "\n",
    "import os\n",
    "model_path = os.path.join (\"model\", \"Doc2Vec_Document.bin\")\n",
    "model.save(model_path)"
   ]
  },
  {
   "cell_type": "code",
   "execution_count": 10,
   "metadata": {},
   "outputs": [
    {
     "name": "stdout",
     "output_type": "stream",
     "text": [
      "V1_infer False\n"
     ]
    },
    {
     "name": "stderr",
     "output_type": "stream",
     "text": [
      "<ipython-input-10-481c8ffb6752>:8: DeprecationWarning: Call to deprecated `docvecs` (The `docvecs` property has been renamed `dv`.).\n",
      "  model.docvecs.most_similar (positive = [v1], topn = 5)\n"
     ]
    },
    {
     "data": {
      "text/plain": [
       "[('16', 0.9596492648124695),\n",
       " ('4', 0.8337626457214355),\n",
       " ('14', 0.6664733290672302),\n",
       " ('3', 0.5834048986434937),\n",
       " ('11', 0.5444937348365784)]"
      ]
     },
     "execution_count": 10,
     "metadata": {},
     "output_type": "execute_result"
    }
   ],
   "source": [
    "test_sen = files_text [16]\n",
    "processed = pre_process ([test_sen])\n",
    "\n",
    "print (\"V1_infer\", processed[0] == tagged_data[0][0])\n",
    "\n",
    "v1 = model.infer_vector (processed [0])\n",
    "model.docvecs.most_similar (positive = [v1], topn = 5)"
   ]
  }
 ],
 "metadata": {
  "kernelspec": {
   "display_name": "Python 3",
   "language": "python",
   "name": "python3"
  },
  "language_info": {
   "codemirror_mode": {
    "name": "ipython",
    "version": 3
   },
   "file_extension": ".py",
   "mimetype": "text/x-python",
   "name": "python",
   "nbconvert_exporter": "python",
   "pygments_lexer": "ipython3",
   "version": "3.8.5"
  }
 },
 "nbformat": 4,
 "nbformat_minor": 4
}
