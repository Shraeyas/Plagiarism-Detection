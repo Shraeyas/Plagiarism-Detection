{
 "cells": [
  {
   "cell_type": "markdown",
   "metadata": {},
   "source": [
    "```Citation for data: Clough, P. and Stevenson, M. Developing A Corpus of Plagiarised Short Answers, Language Resources and Evaluation: Special Issue on Plagiarism and Authorship Analysis, In Press. [Download]```"
   ]
  },
  {
   "cell_type": "code",
   "execution_count": 1,
   "metadata": {},
   "outputs": [],
   "source": [
    "import os\n",
    "import pandas as pd\n",
    "import numpy as np"
   ]
  },
  {
   "cell_type": "code",
   "execution_count": null,
   "metadata": {},
   "outputs": [],
   "source": []
  },
  {
   "cell_type": "code",
   "execution_count": 2,
   "metadata": {},
   "outputs": [
    {
     "data": {
      "text/html": [
       "<div>\n",
       "<style scoped>\n",
       "    .dataframe tbody tr th:only-of-type {\n",
       "        vertical-align: middle;\n",
       "    }\n",
       "\n",
       "    .dataframe tbody tr th {\n",
       "        vertical-align: top;\n",
       "    }\n",
       "\n",
       "    .dataframe thead th {\n",
       "        text-align: right;\n",
       "    }\n",
       "</style>\n",
       "<table border=\"1\" class=\"dataframe\">\n",
       "  <thead>\n",
       "    <tr style=\"text-align: right;\">\n",
       "      <th></th>\n",
       "      <th>File</th>\n",
       "      <th>Task</th>\n",
       "      <th>Category</th>\n",
       "    </tr>\n",
       "  </thead>\n",
       "  <tbody>\n",
       "    <tr>\n",
       "      <th>0</th>\n",
       "      <td>g0pA_taska.txt</td>\n",
       "      <td>a</td>\n",
       "      <td>non</td>\n",
       "    </tr>\n",
       "    <tr>\n",
       "      <th>1</th>\n",
       "      <td>g0pB_taska.txt</td>\n",
       "      <td>a</td>\n",
       "      <td>non</td>\n",
       "    </tr>\n",
       "    <tr>\n",
       "      <th>2</th>\n",
       "      <td>g0pC_taska.txt</td>\n",
       "      <td>a</td>\n",
       "      <td>heavy</td>\n",
       "    </tr>\n",
       "    <tr>\n",
       "      <th>3</th>\n",
       "      <td>g0pD_taska.txt</td>\n",
       "      <td>a</td>\n",
       "      <td>cut</td>\n",
       "    </tr>\n",
       "    <tr>\n",
       "      <th>4</th>\n",
       "      <td>g0pE_taska.txt</td>\n",
       "      <td>a</td>\n",
       "      <td>light</td>\n",
       "    </tr>\n",
       "  </tbody>\n",
       "</table>\n",
       "</div>"
      ],
      "text/plain": [
       "             File Task Category\n",
       "0  g0pA_taska.txt    a      non\n",
       "1  g0pB_taska.txt    a      non\n",
       "2  g0pC_taska.txt    a    heavy\n",
       "3  g0pD_taska.txt    a      cut\n",
       "4  g0pE_taska.txt    a    light"
      ]
     },
     "execution_count": 2,
     "metadata": {},
     "output_type": "execute_result"
    }
   ],
   "source": [
    "data = pd.read_csv (os.path.join (\"dataset\", \"file_information.csv\"))\n",
    "data.head ()"
   ]
  },
  {
   "cell_type": "code",
   "execution_count": 3,
   "metadata": {},
   "outputs": [],
   "source": [
    "files_text = []\n",
    "\n",
    "for file in data.File.values :\n",
    "    files_text.append (open (os.path.join (\"dataset\", file), 'r', encoding=\"cp437\").read ())"
   ]
  },
  {
   "cell_type": "code",
   "execution_count": 4,
   "metadata": {},
   "outputs": [
    {
     "name": "stdout",
     "output_type": "stream",
     "text": [
      "19\n"
     ]
    }
   ],
   "source": [
    "print (len (files_text))"
   ]
  },
  {
   "cell_type": "code",
   "execution_count": 5,
   "metadata": {},
   "outputs": [
    {
     "name": "stderr",
     "output_type": "stream",
     "text": [
      "[nltk_data] Downloading package punkt to\n",
      "[nltk_data]     C:\\Users\\Shraeyas\\AppData\\Roaming\\nltk_data...\n",
      "[nltk_data]   Package punkt is already up-to-date!\n",
      "[nltk_data] Downloading package stopwords to\n",
      "[nltk_data]     C:\\Users\\Shraeyas\\AppData\\Roaming\\nltk_data...\n",
      "[nltk_data]   Package stopwords is already up-to-date!\n"
     ]
    }
   ],
   "source": [
    "import re\n",
    "import nltk\n",
    "from nltk.corpus import stopwords\n",
    "from nltk.tokenize import word_tokenize\n",
    "nltk.download ('punkt')\n",
    "nltk.download ('stopwords')\n",
    "\n",
    "def pre_process (_sentences) :\n",
    "    # Get the Stopwords of English Language\n",
    "    en_stops = set (stopwords.words ('english'))\n",
    "    processed_sentences = []\n",
    "\n",
    "    for sentence in _sentences :\n",
    "        #print (sentence)\n",
    "        sentence = re.sub (r'[^\\w\\s]','', sentence)\n",
    "        lower_sen = sentence.lower ()\n",
    "        token_sen = word_tokenize (lower_sen)\n",
    "\n",
    "        #print (token_sen)\n",
    "\n",
    "        new_sentence = []\n",
    "        for word in token_sen:\n",
    "            if word not in en_stops:\n",
    "                new_sentence.append (word)\n",
    "                #print (word)\n",
    "\n",
    "        processed_sentences.append (new_sentence)\n",
    "    return processed_sentences"
   ]
  },
  {
   "cell_type": "code",
   "execution_count": 6,
   "metadata": {},
   "outputs": [
    {
     "name": "stdout",
     "output_type": "stream",
     "text": [
      "19\n"
     ]
    }
   ],
   "source": [
    "sentences = []\n",
    "for file_text in files_text :\n",
    "    sentences.append (pre_process ([file_text]))        \n",
    "print (len(sentences))"
   ]
  },
  {
   "cell_type": "code",
   "execution_count": 7,
   "metadata": {},
   "outputs": [],
   "source": [
    "from gensim.models.doc2vec import TaggedDocument\n",
    "tagged_data = [TaggedDocument (words = _d[0], tags = [str (i)]) for i, _d in enumerate (sentences)]"
   ]
  },
  {
   "cell_type": "code",
   "execution_count": 8,
   "metadata": {},
   "outputs": [
    {
     "name": "stdout",
     "output_type": "stream",
     "text": [
      "['inheritance', 'basic', 'concept', 'objectoriented', 'programming', 'basic', 'idea', 'create', 'new', 'classes', 'add', 'extra', 'detail', 'existing', 'classes', 'done', 'allowing', 'new', 'classes', 'reuse', 'methods', 'variables', 'existing', 'classes', 'new', 'methods', 'classes', 'added', 'specialise', 'new', 'class', 'inheritance', 'models', 'γçiskindofγç', 'relationship', 'entities', 'objects', 'example', 'postgraduates', 'undergraduates', 'kinds', 'student', 'kind', 'relationship', 'visualised', 'tree', 'structure', 'γçÿstudentγçö', 'would', 'general', 'root', 'node', 'γçÿpostgraduateγçö', 'γçÿundergraduateγçö', 'would', 'specialised', 'extensions', 'γçÿstudentγçö', 'node', 'child', 'nodes', 'relationship', 'γçÿstudentγçö', 'would', 'known', 'superclass', 'parent', 'class', 'whereas', 'γçÿpostgraduateγçö', 'would', 'known', 'subclass', 'child', 'class', 'γçÿpostgraduateγçö', 'class', 'extends', 'γçÿstudentγçö', 'class', 'inheritance', 'occur', 'several', 'layers', 'visualised', 'would', 'display', 'larger', 'tree', 'structure', 'example', 'could', 'extend', 'γçÿpostgraduateγçö', 'node', 'adding', 'two', 'extra', 'extended', 'classes', 'called', 'γçÿmsc', 'studentγçö', 'γçÿphd', 'studentγçö', 'types', 'student', 'kinds', 'postgraduate', 'student', 'would', 'mean', 'γçÿmsc', 'studentγçö', 'γçÿphd', 'studentγçö', 'classes', 'would', 'inherit', 'methods', 'variables', 'γçÿpostgraduateγçö', 'γçÿstudent', 'classesγçö']\n",
      "19\n"
     ]
    }
   ],
   "source": [
    "print(tagged_data[0][0])\n",
    "print(len(tagged_data))"
   ]
  },
  {
   "cell_type": "code",
   "execution_count": 9,
   "metadata": {},
   "outputs": [],
   "source": [
    "from gensim.models.doc2vec import Doc2Vec\n",
    "\n",
    "model = Doc2Vec (vector_size = 100, window = 19, min_count = 5, workers = 8, epochs = 1000, alpha = 0.03, min_alpha = 0.002)\n",
    "model.build_vocab (tagged_data)\n",
    "model.train (tagged_data, total_examples = model.corpus_count, epochs = model.epochs)\n",
    "\n",
    "import os\n",
    "model_path = os.path.join (\"model\", \"Doc2Vec_Document.bin\")\n",
    "model.save(model_path)"
   ]
  },
  {
   "cell_type": "code",
   "execution_count": 10,
   "metadata": {},
   "outputs": [
    {
     "name": "stdout",
     "output_type": "stream",
     "text": [
      "V1_infer False\n"
     ]
    },
    {
     "name": "stderr",
     "output_type": "stream",
     "text": [
      "<ipython-input-10-481c8ffb6752>:8: DeprecationWarning: Call to deprecated `docvecs` (The `docvecs` property has been renamed `dv`.).\n",
      "  model.docvecs.most_similar (positive = [v1], topn = 5)\n"
     ]
    },
    {
     "data": {
      "text/plain": [
       "[('16', 0.9596492648124695),\n",
       " ('4', 0.8337626457214355),\n",
       " ('14', 0.6664733290672302),\n",
       " ('3', 0.5834048986434937),\n",
       " ('11', 0.5444937348365784)]"
      ]
     },
     "execution_count": 10,
     "metadata": {},
     "output_type": "execute_result"
    }
   ],
   "source": [
    "test_sen = files_text [16]\n",
    "processed = pre_process ([test_sen])\n",
    "\n",
    "print (\"V1_infer\", processed[0] == tagged_data[0][0])\n",
    "\n",
    "v1 = model.infer_vector (processed [0])\n",
    "\n",
    "model.docvecs.most_similar (positive = [v1], topn = 5)"
   ]
  },
  {
   "cell_type": "code",
   "execution_count": 11,
   "metadata": {},
   "outputs": [],
   "source": [
    "x = []\n",
    "for file_text in files_text :\n",
    "    processed = pre_process ([file_text])\n",
    "\n",
    "    #print (\"V1_infer\", processed[0] == tagged_data[0][0])\n",
    "\n",
    "    v = model.infer_vector (processed [0])\n",
    "    x.append (v)"
   ]
  },
  {
   "cell_type": "code",
   "execution_count": 26,
   "metadata": {},
   "outputs": [],
   "source": [
    "from sklearn.decomposition import PCA\n",
    "pca = PCA(n_components=2)\n",
    "principalComponents = pca.fit_transform(x)\n",
    "principalDf = pd.DataFrame(data = principalComponents, columns = ['pc1', 'pc2'])"
   ]
  },
  {
   "cell_type": "code",
   "execution_count": 21,
   "metadata": {},
   "outputs": [
    {
     "data": {
      "text/plain": [
       "19"
      ]
     },
     "execution_count": 21,
     "metadata": {},
     "output_type": "execute_result"
    }
   ],
   "source": [
    "len(principalDf)"
   ]
  },
  {
   "cell_type": "code",
   "execution_count": 27,
   "metadata": {},
   "outputs": [
    {
     "data": {
      "text/plain": [
       "<matplotlib.collections.PathCollection at 0x19247835160>"
      ]
     },
     "execution_count": 27,
     "metadata": {},
     "output_type": "execute_result"
    },
    {
     "data": {
      "image/png": "[encoded data removed]",
      "text/plain": [
       "<Figure size 432x288 with 1 Axes>"
      ]
     },
     "metadata": {
      "needs_background": "light"
     },
     "output_type": "display_data"
    }
   ],
   "source": [
    "import matplotlib.pyplot as plt\n",
    "plt.scatter (principalDf.pc1.values, principalDf.pc2.values)"
   ]
  },
  {
   "cell_type": "code",
   "execution_count": 35,
   "metadata": {},
   "outputs": [],
   "source": [
    "from sklearn.cluster import KMeans\n",
    "import numpy as np\n",
    "import pandas as pd\n",
    "#import statsmodels.api as sm\n",
    "import matplotlib.pyplot as plt\n",
    "import seaborn as sns\n",
    "sns.set()"
   ]
  },
  {
   "cell_type": "code",
   "execution_count": 49,
   "metadata": {},
   "outputs": [
    {
     "data": {
      "text/plain": [
       "KMeans(n_clusters=5)"
      ]
     },
     "execution_count": 49,
     "metadata": {},
     "output_type": "execute_result"
    }
   ],
   "source": [
    "x = principalDf.values\n",
    "kmeans = KMeans (5)\n",
    "kmeans.fit (x)"
   ]
  },
  {
   "cell_type": "code",
   "execution_count": 50,
   "metadata": {},
   "outputs": [
    {
     "data": {
      "text/plain": [
       "array([0, 2, 0, 0, 4, 2, 0, 1, 2, 0, 2, 4, 0, 2, 0, 2, 4, 3, 1])"
      ]
     },
     "execution_count": 50,
     "metadata": {},
     "output_type": "execute_result"
    }
   ],
   "source": [
    "identified_clusters = kmeans.fit_predict(x)\n",
    "identified_clusters"
   ]
  },
  {
   "cell_type": "code",
   "execution_count": 51,
   "metadata": {},
   "outputs": [
    {
     "data": {
      "text/plain": [
       "<matplotlib.collections.PathCollection at 0x19248414c40>"
      ]
     },
     "execution_count": 51,
     "metadata": {},
     "output_type": "execute_result"
    },
    {
     "data": {
      "image/png": "[encoded data removed]",
      "text/plain": [
       "<Figure size 432x288 with 1 Axes>"
      ]
     },
     "metadata": {},
     "output_type": "display_data"
    }
   ],
   "source": [
    "data_with_clusters = data.copy()\n",
    "data_with_clusters['Clusters'] = identified_clusters \n",
    "plt.scatter(principalDf.pc1.values, principalDf.pc2.values, c = identified_clusters, cmap='rainbow')"
   ]
  },
  {
   "cell_type": "code",
   "execution_count": 58,
   "metadata": {},
   "outputs": [
    {
     "data": {
      "text/plain": [
       "Text(0, 0.5, 'WCSS')"
      ]
     },
     "execution_count": 58,
     "metadata": {},
     "output_type": "execute_result"
    },
    {
     "data": {
      "image/png": "[encoded data removed]",
      "text/plain": [
       "<Figure size 432x288 with 1 Axes>"
      ]
     },
     "metadata": {},
     "output_type": "display_data"
    }
   ],
   "source": [
    "wcss = []\n",
    "for i in range (1,16) :\n",
    "    kmeans = KMeans (i)\n",
    "    kmeans.fit (x)\n",
    "    wcss_iter = kmeans.inertia_\n",
    "    wcss.append (wcss_iter)\n",
    "\n",
    "number_clusters = range (1, 16)\n",
    "plt.plot (number_clusters, wcss)\n",
    "plt.title ('The Elbow title')\n",
    "plt.xlabel ('Number of clusters')\n",
    "plt.ylabel ('WCSS')"
   ]
  }
 ],
 "metadata": {
  "kernelspec": {
   "display_name": "Python 3",
   "language": "python",
   "name": "python3"
  },
  "language_info": {
   "codemirror_mode": {
    "name": "ipython",
    "version": 3
   },
   "file_extension": ".py",
   "mimetype": "text/x-python",
   "name": "python",
   "nbconvert_exporter": "python",
   "pygments_lexer": "ipython3",
   "version": "3.8.5"
  }
 },
 "nbformat": 4,
 "nbformat_minor": 4
}
